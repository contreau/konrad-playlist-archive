{
 "cells": [
  {
   "cell_type": "markdown",
   "metadata": {
    "id": "uaSlXTcltIMe"
   },
   "source": [
    "## Generate access token + pull raw playlist data"
   ]
  },
  {
   "cell_type": "code",
   "execution_count": null,
   "metadata": {
    "id": "hq6jNBnttxnh"
   },
   "outputs": [],
   "source": [
    "import requests\n",
    "import base64\n",
    "import html\n",
    "import time\n",
    "import pandas as pd\n",
    "\n",
    "def get_access_token(client_id, client_secret):\n",
    "    \"\"\"Get Spotify access token using client credentials\"\"\"\n",
    "    auth_url = 'https://accounts.spotify.com/api/token'\n",
    "    auth_header = base64.b64encode(\n",
    "        f\"{client_id}:{client_secret}\".encode()\n",
    "    ).decode()\n",
    "\n",
    "    headers = {\n",
    "        'Authorization': f'Basic {auth_header}',\n",
    "        'Content-Type': 'application/x-www-form-urlencoded'\n",
    "    }\n",
    "\n",
    "    data = {'grant_type': 'client_credentials'}\n",
    "    auth_response = requests.post(auth_url, headers=headers, data=data)\n",
    "    return auth_response.json()['access_token']\n",
    "\n",
    "def GET(url, params):\n",
    "  \"\"\" Utility function for a basic request / response \"\"\"\n",
    "  headers = {\n",
    "      'Authorization': f'Bearer {access_token}'\n",
    "  }\n",
    "\n",
    "  if params is None:\n",
    "    res = requests.get(url, headers=headers)\n",
    "    return res.json()\n",
    "  else:\n",
    "    params = params\n",
    "    res = requests.get(url, headers=headers, params=params)\n",
    "    return res.json()\n",
    "\n",
    "def get_user_playlists(user_id, access_token):\n",
    "    \"\"\"Get ALL public playlists for a specific user\"\"\"\n",
    "\n",
    "    all_playlists = []\n",
    "    offset = 0\n",
    "    limit = 50  # Maximum allowed by Spotify API\n",
    "\n",
    "    while True:\n",
    "        # Make request with pagination parameters\n",
    "        url = f'https://api.spotify.com/v1/users/{user_id}/playlists'\n",
    "        data = GET(url, {'limit': limit, 'offset': offset})\n",
    "\n",
    "        # Add this batch of playlists to our list\n",
    "        if 'items' in data:\n",
    "            all_playlists.extend(data['items'])\n",
    "\n",
    "        # Check if we've received all playlists\n",
    "        if len(data.get('items', [])) < limit:\n",
    "            break\n",
    "\n",
    "        # Update offset for next batch\n",
    "        offset += limit\n",
    "\n",
    "    return all_playlists\n",
    "\n",
    "# Credentials (client id/secret are from your spotify dev dashboard)\n",
    "CLIENT_ID = ''\n",
    "CLIENT_SECRET = ''\n",
    "USER_ID = '1261690341' # konrad's spotify user id\n",
    "\n",
    "# Generate Access Token\n",
    "access_token = get_access_token(CLIENT_ID, CLIENT_SECRET)\n",
    "raw_playlists = get_user_playlists(USER_ID, access_token)\n",
    "print(f'Found {len(raw_playlists)} public playlists.')"
   ]
  },
  {
   "cell_type": "markdown",
   "metadata": {
    "id": "U34UkTwSta8r"
   },
   "source": [
    "## Format + compile all playlist data"
   ]
  },
  {
   "cell_type": "code",
   "execution_count": null,
   "metadata": {
    "id": "WyAFDVh7TLoK"
   },
   "outputs": [],
   "source": [
    "def getTracksFromPlaylist(url):\n",
    "  \"\"\" Retrieves raw tracklist data from an API playlist object \"\"\"\n",
    "  allTracks = []\n",
    "  offset = 0\n",
    "  limit = 100 # maximum amount of tracks at one time allowed by Spotify API\n",
    "\n",
    "  while True:\n",
    "    data = GET(url, {'limit': limit, 'offset': offset})\n",
    "\n",
    "    if 'items' in data:\n",
    "      allTracks.extend(data['items'])\n",
    "\n",
    "    if len(data.get('items', [])) < limit:\n",
    "      break\n",
    "\n",
    "    offset += limit\n",
    "\n",
    "  return allTracks\n",
    "\n",
    "def compileTracks(playlist):\n",
    "  \"\"\" Formats all the tracks in a given playlist \"\"\"\n",
    "  compiledTracks = []\n",
    "  tracklist = getTracksFromPlaylist(playlist['tracks']['href'])\n",
    "\n",
    "  for i in range(len(tracklist)):\n",
    "    if tracklist[i]['track'] is None:\n",
    "      continue\n",
    "    trackInfo = {}\n",
    "    trackInfo['name'] = tracklist[i]['track']['name']\n",
    "    trackInfo['artists'] = [artist['name'] for artist in tracklist[i]['track']['artists']]\n",
    "    trackInfo['album'] = tracklist[i]['track']['album']['name']\n",
    "    if tracklist[i]['track']['external_urls'] != {}:\n",
    "      trackInfo['url'] = tracklist[i]['track']['external_urls']['spotify']\n",
    "    else:\n",
    "      trackInfo['url'] = None\n",
    "    trackInfo['dateAdded'] = tracklist[i]['added_at']\n",
    "    compiledTracks.append(trackInfo)\n",
    "  return compiledTracks\n",
    "\n",
    "def compilePlaylistInfo(playlist):\n",
    "  \"\"\" Completes formatting of an individual playlist for our final product \"\"\"\n",
    "  name = ''\n",
    "  image = ''\n",
    "  tracks = []\n",
    "  dateCreated = None\n",
    "  id = playlist['id']\n",
    "  followers = GET(f'https://api.spotify.com/v1/playlists/{id}', None)['followers']['total']\n",
    "\n",
    "  if playlist['name'] is None:\n",
    "    name = None\n",
    "  else:\n",
    "    name = playlist['name']\n",
    "\n",
    "  if playlist['images'] is None:\n",
    "    image = None\n",
    "  else:\n",
    "    image = playlist['images'][0]['url']\n",
    "\n",
    "  if playlist['tracks'] is None:\n",
    "    tracks = None\n",
    "  else:\n",
    "    tracks = compileTracks(playlist)\n",
    "    if tracks is not None:\n",
    "      for track in tracks:\n",
    "        if dateCreated is None and track['dateAdded'] is not None:\n",
    "          dateCreated = pd.to_datetime(track['dateAdded'])\n",
    "        elif dateCreated is not None:\n",
    "          currentTrackDate = pd.to_datetime(track['dateAdded'])\n",
    "          if currentTrackDate < dateCreated:\n",
    "            dateCreated = currentTrackDate\n",
    "      if dateCreated is not None:\n",
    "        dateCreated = dateCreated.strftime('%m-%d-%Y')\n",
    "\n",
    "  playlistInfo = {\n",
    "      'name': name,\n",
    "      'id': id,\n",
    "      'followers': followers,\n",
    "      'dateCreated': dateCreated,\n",
    "      'description': playlist['description'],\n",
    "      'url': playlist['external_urls']['spotify'],\n",
    "      'followers': followers,\n",
    "      'image': image,\n",
    "      'trackCount': playlist['tracks']['total'],\n",
    "      'tracks': tracks\n",
    "  }\n",
    "  return playlistInfo\n",
    "\n",
    "# Create full, compiled list of playlists\n",
    "allFormattedPlaylists = []\n",
    "for i, playlist in enumerate(raw_playlists):\n",
    "  if playlist['owner']['display_name'] != 'Konrad Rauscher':\n",
    "    continue\n",
    "  pl = compilePlaylistInfo(playlist)\n",
    "  allFormattedPlaylists.append(pl)\n",
    "  print(f'\\rProcessed Playlist {i}...', end='', flush=True)\n",
    "  time.sleep(0.25)\n",
    "\n",
    "print(f'\\nSuccessfully compiled {len(allFormattedPlaylists)} playlists.')"
   ]
  },
  {
   "cell_type": "markdown",
   "metadata": {
    "id": "8igOyCYIlkjx"
   },
   "source": [
    "## Export to CSV file"
   ]
  },
  {
   "cell_type": "code",
   "execution_count": 89,
   "metadata": {
    "id": "UcHmGvonyeyH"
   },
   "outputs": [],
   "source": [
    "df = pd.DataFrame(allFormattedPlaylists)\n",
    "df.drop(df[df['trackCount'] == 0].index, inplace = True) # filters out playlists with 0 songs\n",
    "df = df.map(lambda x: html.escape(str(x)) if isinstance(x, str) else x)\n",
    "df.to_csv('playlists.csv', encoding='utf-8', lineterminator='\\r\\n', index=False)"
   ]
  },
  {
   "cell_type": "markdown",
   "metadata": {
    "id": "Z5CV8Z6ilyyj"
   },
   "source": [
    "## Export to JSON file"
   ]
  },
  {
   "cell_type": "code",
   "execution_count": 87,
   "metadata": {
    "id": "TW3VHOzmr-F_"
   },
   "outputs": [],
   "source": [
    "df = pd.DataFrame(allFormattedPlaylists)\n",
    "df.drop(df[df['trackCount'] == 0].index, inplace = True) # filters out playlists with 0 songs\n",
    "df = df.map(lambda x: html.escape(str(x)) if isinstance(x, str) else x)\n",
    "df.to_json('playlists-utf8.json', force_ascii=False, orient='records', indent=2)\n",
    "# ensure utf-8 encoding\n",
    "with open('playlists-utf8.json', 'w', encoding='utf-8') as file:\n",
    "    df.to_json(file, force_ascii=False, orient='records', indent=2)\n",
    "# use a formatter like Prettier in a separate IDE to finish formatting correctly"
   ]
  },
  {
   "cell_type": "markdown",
   "metadata": {
    "id": "GbDdk6xTjlcA"
   },
   "source": [
    "## Clean for Web App"
   ]
  },
  {
   "cell_type": "code",
   "execution_count": 88,
   "metadata": {
    "id": "0onHj4pyjknr"
   },
   "outputs": [],
   "source": [
    "df = df.drop(['id'], axis=1)\n",
    "df = df.drop(['description'], axis=1)\n",
    "with open('playlists-utf8.json', 'w', encoding='utf-8') as file:\n",
    "    df.to_json(file, force_ascii=False, orient='records', indent=2)"
   ]
  }
 ],
 "metadata": {
  "colab": {
   "provenance": []
  },
  "kernelspec": {
   "display_name": "Python 3",
   "name": "python3"
  },
  "language_info": {
   "name": "python"
  }
 },
 "nbformat": 4,
 "nbformat_minor": 0
}
